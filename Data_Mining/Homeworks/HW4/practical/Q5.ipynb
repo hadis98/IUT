{
 "cells": [
  {
   "cell_type": "code",
   "execution_count": 13,
   "metadata": {},
   "outputs": [],
   "source": [
    "import pandas as pd\n",
    "import numpy as np\n",
    "import matplotlib.pyplot as plt\n",
    "from scipy.stats import skew, boxcox\n",
    "import warnings\n",
    "\n",
    "warnings.filterwarnings('ignore')"
   ]
  },
  {
   "cell_type": "code",
   "execution_count": 21,
   "metadata": {
    "scrolled": true
   },
   "outputs": [
    {
     "data": {
      "text/html": [
       "<div>\n",
       "<style scoped>\n",
       "    .dataframe tbody tr th:only-of-type {\n",
       "        vertical-align: middle;\n",
       "    }\n",
       "\n",
       "    .dataframe tbody tr th {\n",
       "        vertical-align: top;\n",
       "    }\n",
       "\n",
       "    .dataframe thead th {\n",
       "        text-align: right;\n",
       "    }\n",
       "</style>\n",
       "<table border=\"1\" class=\"dataframe\">\n",
       "  <thead>\n",
       "    <tr style=\"text-align: right;\">\n",
       "      <th></th>\n",
       "      <th>age</th>\n",
       "      <th>sex</th>\n",
       "      <th>pain type</th>\n",
       "      <th>resting blood pressure</th>\n",
       "      <th>cholestoral</th>\n",
       "      <th>fasting blood sugar</th>\n",
       "      <th>resting electrocardiographic results</th>\n",
       "      <th>maximum heart rate</th>\n",
       "      <th>exercise induced angina</th>\n",
       "      <th>oldpeak</th>\n",
       "      <th>slope of peak</th>\n",
       "      <th>num of major vessels</th>\n",
       "      <th>thal</th>\n",
       "      <th>heart disease</th>\n",
       "    </tr>\n",
       "  </thead>\n",
       "  <tbody>\n",
       "    <tr>\n",
       "      <th>0</th>\n",
       "      <td>70</td>\n",
       "      <td>1.0</td>\n",
       "      <td>four</td>\n",
       "      <td>130.0</td>\n",
       "      <td>322.0</td>\n",
       "      <td>0.0</td>\n",
       "      <td>2.0</td>\n",
       "      <td>109.0</td>\n",
       "      <td>0.0</td>\n",
       "      <td>2.4</td>\n",
       "      <td>2.0</td>\n",
       "      <td>3.0</td>\n",
       "      <td>normal</td>\n",
       "      <td>1</td>\n",
       "    </tr>\n",
       "    <tr>\n",
       "      <th>1</th>\n",
       "      <td>67</td>\n",
       "      <td>0.0</td>\n",
       "      <td>three</td>\n",
       "      <td>115.0</td>\n",
       "      <td>564.0</td>\n",
       "      <td>0.0</td>\n",
       "      <td>2.0</td>\n",
       "      <td>160.0</td>\n",
       "      <td>0.0</td>\n",
       "      <td>1.6</td>\n",
       "      <td>2.0</td>\n",
       "      <td>0.0</td>\n",
       "      <td>reversable defect</td>\n",
       "      <td>0</td>\n",
       "    </tr>\n",
       "    <tr>\n",
       "      <th>2</th>\n",
       "      <td>57</td>\n",
       "      <td>1.0</td>\n",
       "      <td>two</td>\n",
       "      <td>124.0</td>\n",
       "      <td>261.0</td>\n",
       "      <td>0.0</td>\n",
       "      <td>0.0</td>\n",
       "      <td>141.0</td>\n",
       "      <td>0.0</td>\n",
       "      <td>0.3</td>\n",
       "      <td>1.0</td>\n",
       "      <td>0.0</td>\n",
       "      <td>reversable defect</td>\n",
       "      <td>1</td>\n",
       "    </tr>\n",
       "    <tr>\n",
       "      <th>3</th>\n",
       "      <td>64</td>\n",
       "      <td>1.0</td>\n",
       "      <td>four</td>\n",
       "      <td>128.0</td>\n",
       "      <td>263.0</td>\n",
       "      <td>0.0</td>\n",
       "      <td>0.0</td>\n",
       "      <td>105.0</td>\n",
       "      <td>1.0</td>\n",
       "      <td>0.2</td>\n",
       "      <td>2.0</td>\n",
       "      <td>1.0</td>\n",
       "      <td>reversable defect</td>\n",
       "      <td>0</td>\n",
       "    </tr>\n",
       "    <tr>\n",
       "      <th>4</th>\n",
       "      <td>74</td>\n",
       "      <td>0.0</td>\n",
       "      <td>two</td>\n",
       "      <td>120.0</td>\n",
       "      <td>269.0</td>\n",
       "      <td>0.0</td>\n",
       "      <td>2.0</td>\n",
       "      <td>121.0</td>\n",
       "      <td>1.0</td>\n",
       "      <td>0.2</td>\n",
       "      <td>1.0</td>\n",
       "      <td>1.0</td>\n",
       "      <td>normal</td>\n",
       "      <td>0</td>\n",
       "    </tr>\n",
       "  </tbody>\n",
       "</table>\n",
       "</div>"
      ],
      "text/plain": [
       "   age  sex pain type  resting blood pressure  cholestoral  \\\n",
       "0   70  1.0      four                   130.0        322.0   \n",
       "1   67  0.0     three                   115.0        564.0   \n",
       "2   57  1.0       two                   124.0        261.0   \n",
       "3   64  1.0      four                   128.0        263.0   \n",
       "4   74  0.0       two                   120.0        269.0   \n",
       "\n",
       "   fasting blood sugar  resting electrocardiographic results  \\\n",
       "0                  0.0                                   2.0   \n",
       "1                  0.0                                   2.0   \n",
       "2                  0.0                                   0.0   \n",
       "3                  0.0                                   0.0   \n",
       "4                  0.0                                   2.0   \n",
       "\n",
       "   maximum heart rate  exercise induced angina  oldpeak  slope of peak  \\\n",
       "0               109.0                      0.0      2.4            2.0   \n",
       "1               160.0                      0.0      1.6            2.0   \n",
       "2               141.0                      0.0      0.3            1.0   \n",
       "3               105.0                      1.0      0.2            2.0   \n",
       "4               121.0                      1.0      0.2            1.0   \n",
       "\n",
       "   num of major vessels               thal  heart disease  \n",
       "0                   3.0             normal              1  \n",
       "1                   0.0  reversable defect              0  \n",
       "2                   0.0  reversable defect              1  \n",
       "3                   1.0  reversable defect              0  \n",
       "4                   1.0             normal              0  "
      ]
     },
     "execution_count": 21,
     "metadata": {},
     "output_type": "execute_result"
    }
   ],
   "source": [
    "df = pd.read_csv('heart_diagnose.csv')\n",
    "df.head()"
   ]
  },
  {
   "cell_type": "code",
   "execution_count": 15,
   "metadata": {},
   "outputs": [],
   "source": [
    "def print_skewness(skewness):\n",
    "    if skewness > 0:\n",
    "        print(\"The dataset is positively skewed.\")\n",
    "    elif skewness < 0:\n",
    "        print(\"The dataset is negatively skewed.\")\n",
    "    else:\n",
    "        print(\"The dataset is symmetric.\")\n",
    "\n",
    "    # Display the numerical value of the skewness\n",
    "    print(\"The numerical value of the skewness is:\", skewness)    "
   ]
  },
  {
   "cell_type": "markdown",
   "metadata": {},
   "source": [
    "# Question1\n",
    "Draw the histogram of resting blood pressure and determine if it is skewed. What kind is it? Display its numerical value"
   ]
  },
  {
   "cell_type": "code",
   "execution_count": 17,
   "metadata": {},
   "outputs": [
    {
     "name": "stdout",
     "output_type": "stream",
     "text": [
      "The dataset is positively skewed.\n",
      "The numerical value of the skewness is: 0.7185972511657525\n"
     ]
    },
    {
     "data": {
      "image/png": "[encoded data removed]",
      "text/plain": [
       "<Figure size 432x288 with 1 Axes>"
      ]
     },
     "metadata": {
      "needs_background": "light"
     },
     "output_type": "display_data"
    }
   ],
   "source": [
    "resting_blood_pressure = df['resting blood pressure']\n",
    "plt.hist(resting_blood_pressure)\n",
    "# Determine if the dataset is skewed\n",
    "skewness = skew(resting_blood_pressure)\n",
    "print_skewness(skewness)"
   ]
  },
  {
   "cell_type": "markdown",
   "metadata": {},
   "source": [
    "# Question2\n",
    "Try to fix the skewness with the help of natural logarithm. Store the normalized feature in a new variable and display its histogram and numerical value of skewness"
   ]
  },
  {
   "cell_type": "code",
   "execution_count": 18,
   "metadata": {},
   "outputs": [
    {
     "name": "stdout",
     "output_type": "stream",
     "text": [
      "The dataset is positively skewed.\n",
      "The numerical value of the skewness is: 0.28747496517610605\n"
     ]
    },
    {
     "data": {
      "image/png": "[encoded data removed]",
      "text/plain": [
       "<Figure size 432x288 with 1 Axes>"
      ]
     },
     "metadata": {
      "needs_background": "light"
     },
     "output_type": "display_data"
    }
   ],
   "source": [
    "# Apply the natural logarithm to fix the skewness\n",
    "resting_blood_pressure_log = np.log(resting_blood_pressure)\n",
    "\n",
    "# Draw the histogram of the normalized feature\n",
    "plt.hist(resting_blood_pressure_log)\n",
    "\n",
    "# Determine if the dataset is skewed\n",
    "skewness = skew(resting_blood_pressure_log)\n",
    "print_skewness(skewness)"
   ]
  },
  {
   "cell_type": "markdown",
   "metadata": {},
   "source": [
    "# Question3\n",
    "Try to fix the skew by taking the square root. Store the normalized feature in a new variable and display its histogram and numerical value of skewness"
   ]
  },
  {
   "cell_type": "code",
   "execution_count": 19,
   "metadata": {},
   "outputs": [
    {
     "name": "stdout",
     "output_type": "stream",
     "text": [
      "The dataset is positively skewed.\n",
      "The numerical value of the skewness is: 0.4979970346860892\n"
     ]
    },
    {
     "data": {
      "image/png": "[encoded data removed]",
      "text/plain": [
       "<Figure size 432x288 with 1 Axes>"
      ]
     },
     "metadata": {
      "needs_background": "light"
     },
     "output_type": "display_data"
    }
   ],
   "source": [
    "# Apply the square root to fix the skewness\n",
    "resting_blood_pressure_sqrt = np.sqrt(resting_blood_pressure)\n",
    "\n",
    "# Draw the histogram of the normalized feature\n",
    "plt.hist(resting_blood_pressure_sqrt)\n",
    "\n",
    "# Determine if the dataset is skewed\n",
    "skewness = skew(resting_blood_pressure_sqrt)\n",
    "print_skewness(skewness)"
   ]
  },
  {
   "cell_type": "markdown",
   "metadata": {},
   "source": [
    "## Question 4\n",
    "Find a new way to fix the skew and use it to fix the skew. Store the normalized feature in a new variable and display its histogram and numerical value of skewness"
   ]
  },
  {
   "cell_type": "code",
   "execution_count": 20,
   "metadata": {},
   "outputs": [
    {
     "name": "stdout",
     "output_type": "stream",
     "text": [
      "The dataset is positively skewed.\n",
      "The numerical value of the skewness is: 0.0007434696494855163\n"
     ]
    },
    {
     "data": {
      "image/png": "[encoded data removed]",
      "text/plain": [
       "<Figure size 432x288 with 1 Axes>"
      ]
     },
     "metadata": {
      "needs_background": "light"
     },
     "output_type": "display_data"
    }
   ],
   "source": [
    "# Apply Box-Cox transform to fix the skewness\n",
    "resting_blood_pressure_boxcox, _ = boxcox(resting_blood_pressure)\n",
    "\n",
    "# Draw the histogram of the normalized feature\n",
    "plt.hist(resting_blood_pressure_boxcox)\n",
    "skewness = skew(resting_blood_pressure_boxcox)\n",
    "print_skewness(skewness)"
   ]
  },
  {
   "cell_type": "markdown",
   "metadata": {},
   "source": [
    "## Question 5\n",
    "Compare the 3 methods"
   ]
  },
  {
   "cell_type": "code",
   "execution_count": 26,
   "metadata": {
    "scrolled": true
   },
   "outputs": [
    {
     "name": "stdout",
     "output_type": "stream",
     "text": [
      "Original data: mean=131.34, std=17.83, skewness=0.72\n",
      "Log transformed data: mean=4.87, std=0.13, skewness=0.29\n",
      "Square root transformed data: mean=11.43, std=0.77, skewness=0.50\n",
      "Box-Cox transformed data: mean=1.36, std=0.00, skewness=0.00\n"
     ]
    },
    {
     "data": {
      "image/png": "[encoded data removed]",
      "text/plain": [
       "<Figure size 576x432 with 4 Axes>"
      ]
     },
     "metadata": {
      "needs_background": "light"
     },
     "output_type": "display_data"
    }
   ],
   "source": [
    "# Print summary statistics\n",
    "print(\"Original data: mean=%.2f, std=%.2f, skewness=%.2f\" % (\n",
    "    np.mean(resting_blood_pressure), np.std(resting_blood_pressure), stats.skew(resting_blood_pressure)))\n",
    "print(\"Log transformed data: mean=%.2f, std=%.2f, skewness=%.2f\" % (\n",
    "    np.mean(resting_blood_pressure_log), np.std(resting_blood_pressure_log), stats.skew(resting_blood_pressure_log)))\n",
    "print(\"Square root transformed data: mean=%.2f, std=%.2f, skewness=%.2f\" % (\n",
    "    np.mean(resting_blood_pressure_sqrt), np.std(resting_blood_pressure_sqrt), stats.skew(resting_blood_pressure_sqrt)))\n",
    "print(\"Box-Cox transformed data: mean=%.2f, std=%.2f, skewness=%.2f\" % (\n",
    "    np.mean(resting_blood_pressure_boxcox), np.std(resting_blood_pressure_boxcox), stats.skew(resting_blood_pressure_boxcox)))\n",
    "\n",
    "# Plot histograms for comparison\n",
    "import matplotlib.pyplot as plt\n",
    "\n",
    "fig, axs = plt.subplots(2, 2, figsize=(8, 6))\n",
    "axs[0, 0].hist(resting_blood_pressure)\n",
    "axs[0, 0].set_title(\"Original data\")\n",
    "axs[0, 1].hist(resting_blood_pressure_log)\n",
    "axs[0, 1].set_title(\"Log transformed data\")\n",
    "axs[1, 0].hist(resting_blood_pressure_sqrt)\n",
    "axs[1, 0].set_title(\"Square root transformed data\")\n",
    "axs[1, 1].hist(resting_blood_pressure_boxcox)\n",
    "axs[1, 1].set_title(\"Box-Cox transformed data\")\n",
    "plt.show()\n"
   ]
  },
  {
   "cell_type": "markdown",
   "metadata": {},
   "source": [
    "We can see that all three transformations have reduced the skewness of the data to some extent, with the Box-Cox transformation achieving the greatest reduction in skewness. The means and standard deviations of the transformed data are also different from those of the original data.\n",
    "\n",
    "The histograms show that the Box-Cox transformation has compressed the range of the data the most and it has shifted the data towards zero and made it more symmetric. "
   ]
  },
  {
   "cell_type": "code",
   "execution_count": null,
   "metadata": {},
   "outputs": [],
   "source": []
  }
 ],
 "metadata": {
  "kernelspec": {
   "display_name": "Python 3",
   "language": "python",
   "name": "python3"
  },
  "language_info": {
   "codemirror_mode": {
    "name": "ipython",
    "version": 3
   },
   "file_extension": ".py",
   "mimetype": "text/x-python",
   "name": "python",
   "nbconvert_exporter": "python",
   "pygments_lexer": "ipython3",
   "version": "3.8.3"
  }
 },
 "nbformat": 4,
 "nbformat_minor": 4
}
